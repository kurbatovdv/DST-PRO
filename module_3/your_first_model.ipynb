{
 "cells": [
  {
   "cell_type": "markdown",
   "metadata": {},
   "source": [
    "# Загрузка Pandas и очистка данных"
   ]
  },
  {
   "cell_type": "code",
   "execution_count": 54,
   "metadata": {},
   "outputs": [],
   "source": [
    "import pandas as pd"
   ]
  },
  {
   "cell_type": "code",
   "execution_count": 55,
   "metadata": {},
   "outputs": [],
   "source": [
    "df = pd.read_csv('main_task.csv')"
   ]
  },
  {
   "cell_type": "code",
   "execution_count": 97,
   "metadata": {},
   "outputs": [
    {
     "output_type": "stream",
     "name": "stdout",
     "text": [
      "<class 'pandas.core.frame.DataFrame'>\nRangeIndex: 40000 entries, 0 to 39999\nData columns (total 161 columns):\n #   Column               Non-Null Count  Dtype  \n---  ------               --------------  -----  \n 0   Cuisine Style        40000 non-null  int64  \n 1   Ranking              40000 non-null  float64\n 2   Rating               40000 non-null  float64\n 3   Price Range          40000 non-null  float64\n 4   Number of Reviews    40000 non-null  float64\n 5   Amsterdam            40000 non-null  uint8  \n 6   Athens               40000 non-null  uint8  \n 7   Barcelona            40000 non-null  uint8  \n 8   Berlin               40000 non-null  uint8  \n 9   Bratislava           40000 non-null  uint8  \n 10  Brussels             40000 non-null  uint8  \n 11  Budapest             40000 non-null  uint8  \n 12  Copenhagen           40000 non-null  uint8  \n 13  Dublin               40000 non-null  uint8  \n 14  Edinburgh            40000 non-null  uint8  \n 15  Geneva               40000 non-null  uint8  \n 16  Hamburg              40000 non-null  uint8  \n 17  Helsinki             40000 non-null  uint8  \n 18  Krakow               40000 non-null  uint8  \n 19  Lisbon               40000 non-null  uint8  \n 20  Ljubljana            40000 non-null  uint8  \n 21  London               40000 non-null  uint8  \n 22  Luxembourg           40000 non-null  uint8  \n 23  Lyon                 40000 non-null  uint8  \n 24  Madrid               40000 non-null  uint8  \n 25  Milan                40000 non-null  uint8  \n 26  Munich               40000 non-null  uint8  \n 27  Oporto               40000 non-null  uint8  \n 28  Oslo                 40000 non-null  uint8  \n 29  Paris                40000 non-null  uint8  \n 30  Prague               40000 non-null  uint8  \n 31  Rome                 40000 non-null  uint8  \n 32  Stockholm            40000 non-null  uint8  \n 33  Vienna               40000 non-null  uint8  \n 34  Warsaw               40000 non-null  uint8  \n 35  Zurich               40000 non-null  uint8  \n 36  Italian              40000 non-null  int64  \n 37  French               40000 non-null  int64  \n 38  Spanish              40000 non-null  int64  \n 39  European             40000 non-null  int64  \n 40  Cafe                 40000 non-null  int64  \n 41  Pizza                40000 non-null  int64  \n 42  Portuguese           40000 non-null  int64  \n 43  Chinese              40000 non-null  int64  \n 44  Mediterranean        40000 non-null  int64  \n 45  Bar                  40000 non-null  int64  \n 46  Pub                  40000 non-null  int64  \n 47  Indian               40000 non-null  int64  \n 48  Vegetarian Friendly  40000 non-null  int64  \n 49  Fast Food            40000 non-null  int64  \n 50  International        40000 non-null  int64  \n 51  Japanese             40000 non-null  int64  \n 52  Sushi                40000 non-null  int64  \n 53  Czech                40000 non-null  int64  \n 54  American             40000 non-null  int64  \n 55  Asian                40000 non-null  int64  \n 56  British              40000 non-null  int64  \n 57  Greek                40000 non-null  int64  \n 58  Thai                 40000 non-null  int64  \n 59  German               40000 non-null  int64  \n 60  Seafood              40000 non-null  int64  \n 61  Vietnamese           40000 non-null  int64  \n 62  Turkish              40000 non-null  int64  \n 63  Mexican              40000 non-null  int64  \n 64  Vegan Options        40000 non-null  int64  \n 65  Gluten Free Options  40000 non-null  int64  \n 66  Polish               40000 non-null  int64  \n 67  Austrian             40000 non-null  int64  \n 68  Hungarian            40000 non-null  int64  \n 69  Wine Bar             40000 non-null  int64  \n 70  Lebanese             40000 non-null  int64  \n 71  Central European     40000 non-null  int64  \n 72  Contemporary         40000 non-null  int64  \n 73  Belgian              40000 non-null  int64  \n 74  Steakhouse           40000 non-null  int64  \n 75  Korean               40000 non-null  int64  \n 76  Healthy              40000 non-null  int64  \n 77  Delicatessen         40000 non-null  int64  \n 78  Middle Eastern       40000 non-null  int64  \n 79  African              40000 non-null  int64  \n 80  Moroccan             40000 non-null  int64  \n 81  Barbecue             40000 non-null  int64  \n 82  Dutch                40000 non-null  int64  \n 83  Fusion               40000 non-null  int64  \n 84  Irish                40000 non-null  int64  \n 85  Peruvian             40000 non-null  int64  \n 86  South American       40000 non-null  int64  \n 87  Brazilian            40000 non-null  int64  \n 88  Swiss                40000 non-null  int64  \n 89  Swedish              40000 non-null  int64  \n 90  Grill                40000 non-null  int64  \n 91  Brew Pub             40000 non-null  int64  \n 92  Danish               40000 non-null  int64  \n 93  Eastern European     40000 non-null  int64  \n 94  Indonesian           40000 non-null  int64  \n 95  Pakistani            40000 non-null  int64  \n 96  Scandinavian         40000 non-null  int64  \n 97  Gastropub            40000 non-null  int64  \n 98  Street Food          40000 non-null  int64  \n 99  Halal                40000 non-null  int64  \n 100 Ethiopian            40000 non-null  int64  \n 101 Latin                40000 non-null  int64  \n 102 Central American     40000 non-null  int64  \n 103 Russian              40000 non-null  int64  \n 104 Caribbean            40000 non-null  int64  \n 105 Diner                40000 non-null  int64  \n 106 Argentinean          40000 non-null  int64  \n 107 Nepali               40000 non-null  int64  \n 108 Soups                40000 non-null  int64  \n 109 Jamaican             40000 non-null  int64  \n 110 Persian              40000 non-null  int64  \n 111 Scottish             40000 non-null  int64  \n 112 Bangladeshi          40000 non-null  int64  \n 113 Cuban                40000 non-null  int64  \n 114 Slovenian            40000 non-null  int64  \n 115 Norwegian            40000 non-null  int64  \n 116 Arabic               40000 non-null  int64  \n 117 Cambodian            40000 non-null  int64  \n 118 Balti                40000 non-null  int64  \n 119 Croatian             40000 non-null  int64  \n 120 Cajun & Creole       40000 non-null  int64  \n 121 Minority Chinese     40000 non-null  int64  \n 122 Georgian             40000 non-null  int64  \n 123 Israeli              40000 non-null  int64  \n 124 Colombian            40000 non-null  int64  \n 125 Tunisian             40000 non-null  int64  \n 126 Taiwanese            40000 non-null  int64  \n 127 Sri Lankan           40000 non-null  int64  \n 128 Tibetan              40000 non-null  int64  \n 129 Venezuelan           40000 non-null  int64  \n 130 Filipino             40000 non-null  int64  \n 131 Mongolian            40000 non-null  int64  \n 132 Romanian             40000 non-null  int64  \n 133 Afghani              40000 non-null  int64  \n 134 New Zealand          40000 non-null  int64  \n 135 Egyptian             40000 non-null  int64  \n 136 Malaysian            40000 non-null  int64  \n 137 Australian           40000 non-null  int64  \n 138 Kosher               40000 non-null  int64  \n 139 Ecuadorean           40000 non-null  int64  \n 140 Hawaiian             40000 non-null  int64  \n 141 Albanian             40000 non-null  int64  \n 142 Ukrainian            40000 non-null  int64  \n 143 Azerbaijani          40000 non-null  int64  \n 144 Singaporean          40000 non-null  int64  \n 145 Burmese              40000 non-null  int64  \n 146 Central Asian        40000 non-null  int64  \n 147 Latvian              40000 non-null  int64  \n 148 Chilean              40000 non-null  int64  \n 149 Armenian             40000 non-null  int64  \n 150 Caucasian            40000 non-null  int64  \n 151 Southwestern         40000 non-null  int64  \n 152 Uzbek                40000 non-null  int64  \n 153 Canadian             40000 non-null  int64  \n 154 Polynesian           40000 non-null  int64  \n 155 Native American      40000 non-null  int64  \n 156 Welsh                40000 non-null  int64  \n 157 Fujian               40000 non-null  int64  \n 158 Yunnan               40000 non-null  int64  \n 159 Salvadoran           40000 non-null  int64  \n 160 Xinjiang             40000 non-null  int64  \ndtypes: float64(4), int64(126), uint8(31)\nmemory usage: 40.9 MB\n"
     ]
    }
   ],
   "source": [
    "# Ваш код по очистке данных и генерации новых признаков\n",
    "# При необходимости добавьте ячейки\n",
    "df.info(max_cols=200)"
   ]
  },
  {
   "cell_type": "code",
   "execution_count": 57,
   "metadata": {},
   "outputs": [],
   "source": [
    "price_dict = {'$': 1, '$$ - $$$': 2.5, '$$$$': 4}\n",
    "df['Price Range'] = df['Price Range'].replace(to_replace = price_dict)"
   ]
  },
  {
   "cell_type": "code",
   "execution_count": 58,
   "metadata": {},
   "outputs": [],
   "source": [
    "df = pd.concat([df, pd.get_dummies(df['City'])], axis = 1)"
   ]
  },
  {
   "cell_type": "code",
   "execution_count": 62,
   "metadata": {},
   "outputs": [],
   "source": [
    "cuisine_count = {}\n",
    "for cuisines in df['Cuisine Style'].value_counts().index:\n",
    "    for cuisine in cuisines.strip(\"[]\").replace(\"'\", \"\").split(', '):\n",
    "        if cuisine in cuisine_count:\n",
    "            cuisine_count[cuisine] += 1\n",
    "        else:\n",
    "            cuisine_count[cuisine] = 1\n",
    "\n",
    "df['Cuisine Style'] = df['Cuisine Style'].fillna(\"['Vegetarian Friendly']\")\n",
    "\n",
    "df['Cuisine Style'] = df['Cuisine Style'].apply(lambda x: len(x.split(',')))\n",
    "\n",
    "def find_item(cell):\n",
    "    if type(cell) == str:\n",
    "        if item in cell:\n",
    "            return 1\n",
    "    return 0\n",
    "\n",
    "for item in cuisine_count.keys():\n",
    "    df[item] = df['Cuisine Style'].apply(find_item)"
   ]
  },
  {
   "cell_type": "code",
   "execution_count": 64,
   "metadata": {},
   "outputs": [],
   "source": [
    "df.drop(['City', 'Reviews', 'URL_TA', 'ID_TA'], axis = 1, inplace = True)"
   ]
  },
  {
   "cell_type": "code",
   "execution_count": 90,
   "metadata": {},
   "outputs": [],
   "source": [
    "df['Number of Reviews'].fillna(df['Number of Reviews'].mode()[0], inplace = True)"
   ]
  },
  {
   "cell_type": "code",
   "execution_count": 93,
   "metadata": {},
   "outputs": [],
   "source": [
    "df['Price Range'].fillna(df['Price Range'].mode()[0], inplace = True)"
   ]
  },
  {
   "cell_type": "code",
   "execution_count": 96,
   "metadata": {},
   "outputs": [
    {
     "output_type": "execute_result",
     "data": {
      "text/plain": [
       "       Cuisine Style  Ranking  Rating  Price Range  Number of Reviews  \\\n",
       "0              False    False   False        False              False   \n",
       "1              False    False   False        False              False   \n",
       "2              False    False   False        False              False   \n",
       "3              False    False   False        False              False   \n",
       "4              False    False   False        False              False   \n",
       "...              ...      ...     ...          ...                ...   \n",
       "39995          False    False   False        False              False   \n",
       "39996          False    False   False        False              False   \n",
       "39997          False    False   False        False              False   \n",
       "39998          False    False   False        False              False   \n",
       "39999          False    False   False        False              False   \n",
       "\n",
       "       Amsterdam  Athens  Barcelona  Berlin  Bratislava  ...  Southwestern  \\\n",
       "0          False   False      False   False       False  ...         False   \n",
       "1          False   False      False   False       False  ...         False   \n",
       "2          False   False      False   False       False  ...         False   \n",
       "3          False   False      False   False       False  ...         False   \n",
       "4          False   False      False   False       False  ...         False   \n",
       "...          ...     ...        ...     ...         ...  ...           ...   \n",
       "39995      False   False      False   False       False  ...         False   \n",
       "39996      False   False      False   False       False  ...         False   \n",
       "39997      False   False      False   False       False  ...         False   \n",
       "39998      False   False      False   False       False  ...         False   \n",
       "39999      False   False      False   False       False  ...         False   \n",
       "\n",
       "       Uzbek  Canadian  Polynesian  Native American  Welsh  Fujian  Yunnan  \\\n",
       "0      False     False       False            False  False   False   False   \n",
       "1      False     False       False            False  False   False   False   \n",
       "2      False     False       False            False  False   False   False   \n",
       "3      False     False       False            False  False   False   False   \n",
       "4      False     False       False            False  False   False   False   \n",
       "...      ...       ...         ...              ...    ...     ...     ...   \n",
       "39995  False     False       False            False  False   False   False   \n",
       "39996  False     False       False            False  False   False   False   \n",
       "39997  False     False       False            False  False   False   False   \n",
       "39998  False     False       False            False  False   False   False   \n",
       "39999  False     False       False            False  False   False   False   \n",
       "\n",
       "       Salvadoran  Xinjiang  \n",
       "0           False     False  \n",
       "1           False     False  \n",
       "2           False     False  \n",
       "3           False     False  \n",
       "4           False     False  \n",
       "...           ...       ...  \n",
       "39995       False     False  \n",
       "39996       False     False  \n",
       "39997       False     False  \n",
       "39998       False     False  \n",
       "39999       False     False  \n",
       "\n",
       "[40000 rows x 161 columns]"
      ],
      "text/html": "<div>\n<style scoped>\n    .dataframe tbody tr th:only-of-type {\n        vertical-align: middle;\n    }\n\n    .dataframe tbody tr th {\n        vertical-align: top;\n    }\n\n    .dataframe thead th {\n        text-align: right;\n    }\n</style>\n<table border=\"1\" class=\"dataframe\">\n  <thead>\n    <tr style=\"text-align: right;\">\n      <th></th>\n      <th>Cuisine Style</th>\n      <th>Ranking</th>\n      <th>Rating</th>\n      <th>Price Range</th>\n      <th>Number of Reviews</th>\n      <th>Amsterdam</th>\n      <th>Athens</th>\n      <th>Barcelona</th>\n      <th>Berlin</th>\n      <th>Bratislava</th>\n      <th>...</th>\n      <th>Southwestern</th>\n      <th>Uzbek</th>\n      <th>Canadian</th>\n      <th>Polynesian</th>\n      <th>Native American</th>\n      <th>Welsh</th>\n      <th>Fujian</th>\n      <th>Yunnan</th>\n      <th>Salvadoran</th>\n      <th>Xinjiang</th>\n    </tr>\n  </thead>\n  <tbody>\n    <tr>\n      <th>0</th>\n      <td>False</td>\n      <td>False</td>\n      <td>False</td>\n      <td>False</td>\n      <td>False</td>\n      <td>False</td>\n      <td>False</td>\n      <td>False</td>\n      <td>False</td>\n      <td>False</td>\n      <td>...</td>\n      <td>False</td>\n      <td>False</td>\n      <td>False</td>\n      <td>False</td>\n      <td>False</td>\n      <td>False</td>\n      <td>False</td>\n      <td>False</td>\n      <td>False</td>\n      <td>False</td>\n    </tr>\n    <tr>\n      <th>1</th>\n      <td>False</td>\n      <td>False</td>\n      <td>False</td>\n      <td>False</td>\n      <td>False</td>\n      <td>False</td>\n      <td>False</td>\n      <td>False</td>\n      <td>False</td>\n      <td>False</td>\n      <td>...</td>\n      <td>False</td>\n      <td>False</td>\n      <td>False</td>\n      <td>False</td>\n      <td>False</td>\n      <td>False</td>\n      <td>False</td>\n      <td>False</td>\n      <td>False</td>\n      <td>False</td>\n    </tr>\n    <tr>\n      <th>2</th>\n      <td>False</td>\n      <td>False</td>\n      <td>False</td>\n      <td>False</td>\n      <td>False</td>\n      <td>False</td>\n      <td>False</td>\n      <td>False</td>\n      <td>False</td>\n      <td>False</td>\n      <td>...</td>\n      <td>False</td>\n      <td>False</td>\n      <td>False</td>\n      <td>False</td>\n      <td>False</td>\n      <td>False</td>\n      <td>False</td>\n      <td>False</td>\n      <td>False</td>\n      <td>False</td>\n    </tr>\n    <tr>\n      <th>3</th>\n      <td>False</td>\n      <td>False</td>\n      <td>False</td>\n      <td>False</td>\n      <td>False</td>\n      <td>False</td>\n      <td>False</td>\n      <td>False</td>\n      <td>False</td>\n      <td>False</td>\n      <td>...</td>\n      <td>False</td>\n      <td>False</td>\n      <td>False</td>\n      <td>False</td>\n      <td>False</td>\n      <td>False</td>\n      <td>False</td>\n      <td>False</td>\n      <td>False</td>\n      <td>False</td>\n    </tr>\n    <tr>\n      <th>4</th>\n      <td>False</td>\n      <td>False</td>\n      <td>False</td>\n      <td>False</td>\n      <td>False</td>\n      <td>False</td>\n      <td>False</td>\n      <td>False</td>\n      <td>False</td>\n      <td>False</td>\n      <td>...</td>\n      <td>False</td>\n      <td>False</td>\n      <td>False</td>\n      <td>False</td>\n      <td>False</td>\n      <td>False</td>\n      <td>False</td>\n      <td>False</td>\n      <td>False</td>\n      <td>False</td>\n    </tr>\n    <tr>\n      <th>...</th>\n      <td>...</td>\n      <td>...</td>\n      <td>...</td>\n      <td>...</td>\n      <td>...</td>\n      <td>...</td>\n      <td>...</td>\n      <td>...</td>\n      <td>...</td>\n      <td>...</td>\n      <td>...</td>\n      <td>...</td>\n      <td>...</td>\n      <td>...</td>\n      <td>...</td>\n      <td>...</td>\n      <td>...</td>\n      <td>...</td>\n      <td>...</td>\n      <td>...</td>\n      <td>...</td>\n    </tr>\n    <tr>\n      <th>39995</th>\n      <td>False</td>\n      <td>False</td>\n      <td>False</td>\n      <td>False</td>\n      <td>False</td>\n      <td>False</td>\n      <td>False</td>\n      <td>False</td>\n      <td>False</td>\n      <td>False</td>\n      <td>...</td>\n      <td>False</td>\n      <td>False</td>\n      <td>False</td>\n      <td>False</td>\n      <td>False</td>\n      <td>False</td>\n      <td>False</td>\n      <td>False</td>\n      <td>False</td>\n      <td>False</td>\n    </tr>\n    <tr>\n      <th>39996</th>\n      <td>False</td>\n      <td>False</td>\n      <td>False</td>\n      <td>False</td>\n      <td>False</td>\n      <td>False</td>\n      <td>False</td>\n      <td>False</td>\n      <td>False</td>\n      <td>False</td>\n      <td>...</td>\n      <td>False</td>\n      <td>False</td>\n      <td>False</td>\n      <td>False</td>\n      <td>False</td>\n      <td>False</td>\n      <td>False</td>\n      <td>False</td>\n      <td>False</td>\n      <td>False</td>\n    </tr>\n    <tr>\n      <th>39997</th>\n      <td>False</td>\n      <td>False</td>\n      <td>False</td>\n      <td>False</td>\n      <td>False</td>\n      <td>False</td>\n      <td>False</td>\n      <td>False</td>\n      <td>False</td>\n      <td>False</td>\n      <td>...</td>\n      <td>False</td>\n      <td>False</td>\n      <td>False</td>\n      <td>False</td>\n      <td>False</td>\n      <td>False</td>\n      <td>False</td>\n      <td>False</td>\n      <td>False</td>\n      <td>False</td>\n    </tr>\n    <tr>\n      <th>39998</th>\n      <td>False</td>\n      <td>False</td>\n      <td>False</td>\n      <td>False</td>\n      <td>False</td>\n      <td>False</td>\n      <td>False</td>\n      <td>False</td>\n      <td>False</td>\n      <td>False</td>\n      <td>...</td>\n      <td>False</td>\n      <td>False</td>\n      <td>False</td>\n      <td>False</td>\n      <td>False</td>\n      <td>False</td>\n      <td>False</td>\n      <td>False</td>\n      <td>False</td>\n      <td>False</td>\n    </tr>\n    <tr>\n      <th>39999</th>\n      <td>False</td>\n      <td>False</td>\n      <td>False</td>\n      <td>False</td>\n      <td>False</td>\n      <td>False</td>\n      <td>False</td>\n      <td>False</td>\n      <td>False</td>\n      <td>False</td>\n      <td>...</td>\n      <td>False</td>\n      <td>False</td>\n      <td>False</td>\n      <td>False</td>\n      <td>False</td>\n      <td>False</td>\n      <td>False</td>\n      <td>False</td>\n      <td>False</td>\n      <td>False</td>\n    </tr>\n  </tbody>\n</table>\n<p>40000 rows × 161 columns</p>\n</div>"
     },
     "metadata": {},
     "execution_count": 96
    }
   ],
   "source": []
  },
  {
   "cell_type": "markdown",
   "metadata": {},
   "source": [
    "# Разбиваем датафрейм на части, необходимые для обучения и тестирования модели"
   ]
  },
  {
   "cell_type": "code",
   "execution_count": 99,
   "metadata": {},
   "outputs": [],
   "source": [
    "# Х - данные с информацией о ресторанах, у - целевая переменная (рейтинги ресторанов)\n",
    "X = df.drop(['Restaurant_id', 'Rating'], axis = 1)\n",
    "y = df['Rating']"
   ]
  },
  {
   "cell_type": "code",
   "execution_count": 100,
   "metadata": {},
   "outputs": [],
   "source": [
    "# Загружаем специальный инструмент для разбивки:\n",
    "from sklearn.model_selection import train_test_split"
   ]
  },
  {
   "cell_type": "code",
   "execution_count": 101,
   "metadata": {},
   "outputs": [],
   "source": [
    "# Наборы данных с меткой \"train\" будут использоваться для обучения модели, \"test\" - для тестирования.\n",
    "# Для тестирования мы будем использовать 25% от исходного датасета.\n",
    "X_train, X_test, y_train, y_test = train_test_split(X, y, test_size=0.25)"
   ]
  },
  {
   "cell_type": "markdown",
   "metadata": {},
   "source": [
    "# Создаём, обучаем и тестируем модель"
   ]
  },
  {
   "cell_type": "code",
   "execution_count": 102,
   "metadata": {},
   "outputs": [],
   "source": [
    "# Импортируем необходимые библиотеки:\n",
    "from sklearn.ensemble import RandomForestRegressor # инструмент для создания и обучения модели\n",
    "from sklearn import metrics # инструменты для оценки точности модели"
   ]
  },
  {
   "cell_type": "code",
   "execution_count": 103,
   "metadata": {},
   "outputs": [],
   "source": [
    "# Создаём модель\n",
    "regr = RandomForestRegressor(n_estimators=100)\n",
    "\n",
    "# Обучаем модель на тестовом наборе данных\n",
    "regr.fit(X_train, y_train)\n",
    "\n",
    "# Используем обученную модель для предсказания рейтинга ресторанов в тестовой выборке.\n",
    "# Предсказанные значения записываем в переменную y_pred\n",
    "y_pred = regr.predict(X_test)"
   ]
  },
  {
   "cell_type": "code",
   "execution_count": 104,
   "metadata": {},
   "outputs": [
    {
     "output_type": "stream",
     "name": "stdout",
     "text": [
      "MAE: 0.21347999999999998\n"
     ]
    }
   ],
   "source": [
    "# Сравниваем предсказанные значения (y_pred) с реальными (y_test), и смотрим насколько они в среднем отличаются\n",
    "# Метрика называется Mean Absolute Error (MAE) и показывает среднее отклонение предсказанных значений от фактических.\n",
    "print('MAE:', metrics.mean_absolute_error(y_test, y_pred))"
   ]
  },
  {
   "cell_type": "code",
   "execution_count": null,
   "metadata": {},
   "outputs": [],
   "source": []
  }
 ],
 "metadata": {
  "kernelspec": {
   "display_name": "Python 3",
   "language": "python",
   "name": "python3"
  },
  "language_info": {
   "codemirror_mode": {
    "name": "ipython",
    "version": 3
   },
   "file_extension": ".py",
   "mimetype": "text/x-python",
   "name": "python",
   "nbconvert_exporter": "python",
   "pygments_lexer": "ipython3",
   "version": "3.7.6-final"
  }
 },
 "nbformat": 4,
 "nbformat_minor": 2
}